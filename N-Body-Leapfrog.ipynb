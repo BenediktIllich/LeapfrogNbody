{
 "cells": [
  {
   "cell_type": "code",
   "execution_count": 1,
   "metadata": {},
   "outputs": [],
   "source": [
    "import numpy as np\n",
    "import matplotlib.pyplot as plt\n",
    "import math\n",
    "import scipy.integrate as integrate\n",
    "import gif"
   ]
  },
  {
   "cell_type": "code",
   "execution_count": 2,
   "metadata": {},
   "outputs": [],
   "source": [
    "# constants in pc-M_sol-Ma units:\n",
    "#G = 0.004491\n",
    "\n",
    "# constants in kpc-1e10Msol-Ga units:\n",
    "#G = 44910\n",
    "\n",
    "# constants in cgs units:\n",
    "G = 6.674e-8\n",
    "M_sol = 1.988e33"
   ]
  },
  {
   "cell_type": "code",
   "execution_count": 14,
   "metadata": {},
   "outputs": [],
   "source": [
    "# vector from p_1 towards p_2:\n",
    "def distance(p_1, p_2):\n",
    "    return p_2 - p_1\n",
    "\n",
    "# absolute of a 3-vector:\n",
    "def absolute(v):\n",
    "    return np.sqrt(v[0]**2 + v[1]**2 + v[2]**2)\n",
    "\n",
    "# gravitational acceleration between particles i and j:\n",
    "def grav_acc(m_j, d_ij, softening = 0):\n",
    "    #print(G * m_j * d_ij / (absolute(d_ij)**3))\n",
    "    return G * m_j * d_ij / ((absolute(d_ij) + softening)**3)"
   ]
  },
  {
   "cell_type": "code",
   "execution_count": 34,
   "metadata": {},
   "outputs": [],
   "source": [
    "# find the acceleration tensor:\n",
    "def acc_tensor(positions, masses):\n",
    "    a = np.zeros((3, n, n))\n",
    "    for i in range(n):\n",
    "        for j in range(i+1, n):    \n",
    "            d_ij = distance(positions[:, i], positions[:, j])\n",
    "            a[:, i, j] = grav_acc(masses[j], d_ij, softening) #acceleration on particle i from particle j\n",
    "            a[:, j, i] = grav_acc(masses[i], -d_ij, softening) #acceleration on particle j from particle i\n",
    "    return a"
   ]
  },
  {
   "cell_type": "code",
   "execution_count": 16,
   "metadata": {},
   "outputs": [],
   "source": [
    "# find the total acceleration on particle i:   (inefficient!)\n",
    "def cumulative_acc(positions, masses, i):\n",
    "    a = np.zeros(3)\n",
    "    for j in range(0, n):    #acceleration from particle j\n",
    "        if j == i:\n",
    "            a = a\n",
    "        else:\n",
    "            d_ij = distance(positions[:, i], positions[:, j])\n",
    "            #print(d_ij)\n",
    "            a = a + grav_acc(masses[j], d_ij)\n",
    "    return a"
   ]
  },
  {
   "cell_type": "code",
   "execution_count": 37,
   "metadata": {},
   "outputs": [],
   "source": [
    "# initial setup of the system (units!):\n",
    "\n",
    "# all txt files contain (3, n)-arrays where n gives the number of particles\n",
    "# positions\n",
    "positions = np.loadtxt('Initial_Setup/initial_positions.txt')\n",
    "# velocities\n",
    "velocities = np.loadtxt('Initial_Setup/initial_velocities.txt')\n",
    "\n",
    "# number of particles\n",
    "n = 9 #np.size(positions, 1)\n",
    "# number of timesteps\n",
    "T = 1000\n",
    "# length of one time step (units!)\n",
    "t = 86400 * 10\n",
    "# accelerations\n",
    "accelerations = np.zeros((3, n))\n",
    "# masses (plus one heavier mass) (units!)\n",
    "masses = np.loadtxt('Initial_Setup/masses.txt')\n",
    "#masses = np.append(masses, 2e8)\n",
    "#masses = np.ones(n) * 1e-3\n",
    "# softening parameter (units!)\n",
    "softening = 0\n",
    "\n",
    "\n",
    "# Leapfrog Integrator:\n",
    "\n",
    "# file templates\n",
    "pos_template = 'Positions/k{i}positions.txt'\n",
    "vel_template = 'Velocities/k{i}velocities.txt'\n",
    "acc_template = 'Accelerations/k{i}accelerations.txt'\n",
    "# 0-step velocities and positions\n",
    "np.savetxt(vel_template.format(i=0), velocities)\n",
    "np.savetxt(pos_template.format(i=0), positions)\n",
    "\n",
    "# 0-step accelerations:\n",
    "for i in range(n):\n",
    "    #print(accelerations)\n",
    "    accelerations[:, i] = cumulative_acc(positions, masses, i)\n",
    "np.savetxt(acc_template.format(i=0), accelerations)\n",
    "\n",
    "# outer loop for every time step:\n",
    "for k in range(1, T):\n",
    "    # update the position for all particles\n",
    "    positions += t * velocities + .5 * t**2 * accelerations\n",
    "    # save the new positions array\n",
    "    np.savetxt(pos_template.format(i=k), positions)\n",
    "    \n",
    "    #remember the last acceleration\n",
    "    accelerations_prior = accelerations\n",
    "    \n",
    "    # acceleration using individual calculations\n",
    "    #for i in range(n):\n",
    "    #    accelerations[:, i] = cumulative_acc(positions, masses, i)\n",
    "    \n",
    "    # accelerations using acceleration tensor\n",
    "    a = acc_tensor(positions, masses)\n",
    "    accelerations = np.sum(a, axis = 2)\n",
    "    \n",
    "    # save the new accelerations array\n",
    "    np.savetxt(acc_template.format(i=k), accelerations)\n",
    "    \n",
    "    # update the velocities for all particles\n",
    "    velocities += .5 * t * (accelerations_prior + accelerations)\n",
    "    # save the new velocities array\n",
    "    np.savetxt(vel_template.format(i=k), velocities)"
   ]
  },
  {
   "cell_type": "code",
   "execution_count": 30,
   "metadata": {},
   "outputs": [],
   "source": [
    "# Plot the Results projected into the x-y-plane\n",
    "@gif.frame\n",
    "def plot(i):\n",
    "    positions = np.loadtxt('Positions/k{i}positions.txt'.format(i=i))\n",
    "    x_positions = positions[0, :]\n",
    "    y_positions = positions[1, :]\n",
    "    z_positions = positions[2, :]\n",
    "    plt.figure(figsize=(10,10))\n",
    "    plt.scatter(x_positions, y_positions, s=8)\n",
    "    plt.xlim((-5e14, 5e14))\n",
    "    plt.ylim((-5e14, 5e14))\n",
    "    \n",
    "def radii():\n",
    "    radiuses = np.zeros((n, T))\n",
    "    for i in range(T):\n",
    "        positions = np.loadtxt('Positions/k{i}positions.txt'.format(i=i))\n",
    "        for j in range(n):\n",
    "            radiuses[j, i] = absolute(positions[:, j])\n",
    "    return radiuses"
   ]
  },
  {
   "cell_type": "code",
   "execution_count": 39,
   "metadata": {},
   "outputs": [],
   "source": [
    "frames = []\n",
    "for i in range(T):\n",
    "    frame = plot(i)\n",
    "    frames.append(frame)\n",
    "    \n",
    "gif.save(frames, 'Gifs/n_body_system.gif', duration=20, unit='s', between='startend')"
   ]
  },
  {
   "cell_type": "code",
   "execution_count": 46,
   "metadata": {},
   "outputs": [
    {
     "data": {
      "image/png": "[encoded data removed]",
      "text/plain": [
       "<Figure size 720x720 with 1 Axes>"
      ]
     },
     "metadata": {
      "needs_background": "light"
     },
     "output_type": "display_data"
    }
   ],
   "source": [
    "time = np.linspace(0, T-1, T) * t\n",
    "radiuses = radii()\n",
    "np.savetxt('radiuses.txt', radiuses)\n",
    "plt.figure(figsize=(10,10))\n",
    "\n",
    "names = np.array(['Sun', 'Mercury', 'Venus', 'Earth', 'Mars', 'Jupiter', 'Saturn', 'Uranus', 'Neptune'])\n",
    "\n",
    "label_template = 'Object {i}'\n",
    "for i in range(1):\n",
    "    plt.plot(time, radiuses[i, :], label=names[i])\n",
    "    \n",
    "plt.title('Distance to the Origin', fontsize=20)\n",
    "plt.xlabel('time passed /s', fontsize=20)\n",
    "plt.ylabel('D/cm', fontsize=20)\n",
    "plt.legend()\n",
    "plt.grid()\n",
    "plt.savefig('solarpathlinear.png')"
   ]
  },
  {
   "cell_type": "code",
   "execution_count": null,
   "metadata": {},
   "outputs": [],
   "source": [
    "plt.figure()\n",
    "plt.title('Distance to the Barycenter', fontsize=20)\n",
    "plt.xlabel('what?')"
   ]
  },
  {
   "cell_type": "code",
   "execution_count": null,
   "metadata": {},
   "outputs": [],
   "source": []
  }
 ],
 "metadata": {
  "kernelspec": {
   "display_name": "Python 3",
   "language": "python",
   "name": "python3"
  },
  "language_info": {
   "codemirror_mode": {
    "name": "ipython",
    "version": 3
   },
   "file_extension": ".py",
   "mimetype": "text/x-python",
   "name": "python",
   "nbconvert_exporter": "python",
   "pygments_lexer": "ipython3",
   "version": "3.8.3"
  }
 },
 "nbformat": 4,
 "nbformat_minor": 4
}
