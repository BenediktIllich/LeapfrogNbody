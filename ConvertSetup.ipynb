{
 "cells": [
  {
   "cell_type": "code",
   "execution_count": 1,
   "metadata": {},
   "outputs": [],
   "source": [
    "import numpy as np"
   ]
  },
  {
   "cell_type": "code",
   "execution_count": 2,
   "metadata": {},
   "outputs": [
    {
     "data": {
      "text/plain": [
       "array([[-1.19717e+01, -1.22069e+01, -6.94465e+00, ...,  2.27888e-02,\n",
       "         6.97579e-02,  1.01575e-01],\n",
       "       [-1.27918e+01, -6.79051e+00, -1.91387e+01, ...,  6.46056e-02,\n",
       "         6.41459e-02,  8.62746e-02],\n",
       "       [-4.84711e+00,  1.36922e+00, -4.75505e+00, ..., -2.20098e-02,\n",
       "        -4.67124e-02,  1.08995e-02],\n",
       "       ...,\n",
       "       [-2.06285e+01, -2.57077e+01, -4.04399e+01, ..., -8.69803e+01,\n",
       "         1.12499e+02, -6.93162e+01],\n",
       "       [-6.87320e+00,  9.37874e+00, -1.10187e+01, ...,  1.80362e+02,\n",
       "         1.98139e+02,  5.92137e+01],\n",
       "       [ 1.00000e-03,  1.00000e-03,  1.00000e-03, ...,  1.00000e-03,\n",
       "         1.00000e-03,  1.00000e-03]])"
      ]
     },
     "execution_count": 2,
     "metadata": {},
     "output_type": "execute_result"
    }
   ],
   "source": [
    "asciiformat = np.loadtxt('Initial_Setup/Plummer_Sphere/plummer_1000_inascii.txt')\n",
    "\n",
    "asciiformat.transpose()"
   ]
  },
  {
   "cell_type": "code",
   "execution_count": 3,
   "metadata": {},
   "outputs": [],
   "source": [
    "position = np.zeros((3, 1000))\n",
    "velocity = np.zeros((3, 1000))\n",
    "mass = np.zeros(1000)\n",
    "better_format = asciiformat.transpose()\n",
    "\n",
    "for i in range(1000):\n",
    "    position[0, i] = better_format[0, i]\n",
    "    position[1, i] = better_format[1, i]\n",
    "    position[2, i] = better_format[2, i]\n",
    "    velocity[0, i] = better_format[3, i]\n",
    "    velocity[1, i] = better_format[4, i]\n",
    "    velocity[2, i] = better_format[5, i]\n",
    "    mass[i] = better_format[6, i]\n",
    "    \n",
    "\n",
    "np.savetxt('Initial_Setup/galaxy_positions.txt', position)\n",
    "np.savetxt('Initial_Setup/galaxy_velocities.txt', velocity)\n",
    "np.savetxt('Initial_Setup/galaxy_masses.txt', mass)"
   ]
  },
  {
   "cell_type": "code",
   "execution_count": 6,
   "metadata": {},
   "outputs": [
    {
     "name": "stdout",
     "output_type": "stream",
     "text": [
      "[[-1.19717e+01 -1.27918e+01 -4.84711e+00 ... -2.06285e+01 -6.87320e+00\n",
      "   1.00000e-03]\n",
      " [-1.22069e+01 -6.79051e+00  1.36922e+00 ... -2.57077e+01  9.37874e+00\n",
      "   1.00000e-03]\n",
      " [-6.94465e+00 -1.91387e+01 -4.75505e+00 ... -4.04399e+01 -1.10187e+01\n",
      "   1.00000e-03]\n",
      " ...\n",
      " [ 2.27888e-02  6.46056e-02 -2.20098e-02 ... -8.69803e+01  1.80362e+02\n",
      "   1.00000e-03]\n",
      " [ 6.97579e-02  6.41459e-02 -4.67124e-02 ...  1.12499e+02  1.98139e+02\n",
      "   1.00000e-03]\n",
      " [ 1.01575e-01  8.62746e-02  1.08995e-02 ... -6.93162e+01  5.92137e+01\n",
      "   1.00000e-03]]\n"
     ]
    }
   ],
   "source": [
    "print(asciiformat)"
   ]
  },
  {
   "cell_type": "code",
   "execution_count": 7,
   "metadata": {},
   "outputs": [
    {
     "name": "stdout",
     "output_type": "stream",
     "text": [
      "[[-1.19717e+01 -1.27918e+01 -4.84711e+00 ... -2.06285e+01 -6.87320e+00\n",
      "   1.00000e-03]\n",
      " [-1.22069e+01 -6.79051e+00  1.36922e+00 ... -2.57077e+01  9.37874e+00\n",
      "   1.00000e-03]\n",
      " [-6.94465e+00 -1.91387e+01 -4.75505e+00 ... -4.04399e+01 -1.10187e+01\n",
      "   1.00000e-03]\n",
      " ...\n",
      " [ 2.27888e-02  6.46056e-02 -2.20098e-02 ... -8.69803e+01  1.80362e+02\n",
      "   1.00000e-03]\n",
      " [ 6.97579e-02  6.41459e-02 -4.67124e-02 ...  1.12499e+02  1.98139e+02\n",
      "   1.00000e-03]\n",
      " [ 1.01575e-01  8.62746e-02  1.08995e-02 ... -6.93162e+01  5.92137e+01\n",
      "   1.00000e-03]]\n"
     ]
    }
   ],
   "source": [
    "asciiformat.transpose()\n",
    "\n",
    "print(asciiformat)"
   ]
  },
  {
   "cell_type": "code",
   "execution_count": null,
   "metadata": {},
   "outputs": [],
   "source": [
    "# convert output to vtk format for paraview\n",
    "\n",
    "def get_positions(i):\n",
    "    pos_template = 'Positions/k{i}positions.txt'\n",
    "    return np.loadtxt(pos_template.format(i=i))\n",
    "\n",
    "def get_velocities(i):\n",
    "    pos_template = 'Velocities/k{i}velocities.txt'\n",
    "    return np.loadtxt(pos_template.format(i=i))"
   ]
  }
 ],
 "metadata": {
  "kernelspec": {
   "display_name": "Python 3",
   "language": "python",
   "name": "python3"
  },
  "language_info": {
   "codemirror_mode": {
    "name": "ipython",
    "version": 3
   },
   "file_extension": ".py",
   "mimetype": "text/x-python",
   "name": "python",
   "nbconvert_exporter": "python",
   "pygments_lexer": "ipython3",
   "version": "3.8.3"
  }
 },
 "nbformat": 4,
 "nbformat_minor": 4
}
